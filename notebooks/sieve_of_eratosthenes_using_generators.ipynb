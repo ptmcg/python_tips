{
 "cells": [
  {
   "metadata": {},
   "cell_type": "markdown",
   "source": [
    "The Sieve of Eratosthenes is a famous algorithm for finding all prime numbers up to a given limit. It works by iteratively marking the multiples of each prime number starting from 2, up to the square root of the limit. The remaining unmarked numbers are prime.\n",
    "\n",
    "The original sieve in the algorithm marks multiples of previously seen primes as non-primes. Using Python iterators and filters, we can implement a version of the sieve that works more like a true sieve, by filtering out multiples of each found prime number from the remaining numbers, thus only permitting new primes to fall through."
   ],
   "id": "bcded394f7638ce8"
  },
  {
   "metadata": {
    "ExecuteTime": {
     "end_time": "2025-02-13T07:37:20.338200Z",
     "start_time": "2025-02-13T07:37:20.332796Z"
    }
   },
   "cell_type": "code",
   "source": [
    "from typing import Callable\n",
    "\n",
    "def is_multiple(n: int) -> Callable[[int], bool]:\n",
    "    def _filter(x: int) -> bool:\n",
    "        return x % n == 0\n",
    "    return _filter\n",
    "\n",
    "def sieve(limit: int):\n",
    "    import itertools\n",
    "    remaining_numbers = iter(range(2, limit + 1))\n",
    "\n",
    "    while True:\n",
    "        # the next number to make it through the sieve must be prime\n",
    "        next_prime = next(remaining_numbers)\n",
    "        yield next_prime\n",
    "\n",
    "        # if the next prime is greater than the square root of the limit, all the remaining numbers\n",
    "        # to make it through the sieve of filters are prime\n",
    "        if next_prime * next_prime > limit:\n",
    "            yield from remaining_numbers\n",
    "            break\n",
    "\n",
    "        # wrap the current remaining_numbers iterator in a filter, returning only numbers that\n",
    "        # are not multiples of the next prime\n",
    "        remaining_numbers = itertools.filterfalse(is_multiple(next_prime), remaining_numbers)"
   ],
   "id": "c89f76e6a02a3014",
   "outputs": [],
   "execution_count": 12
  },
  {
   "metadata": {
    "ExecuteTime": {
     "end_time": "2025-02-13T07:37:23.512195Z",
     "start_time": "2025-02-13T07:37:23.507985Z"
    }
   },
   "cell_type": "code",
   "source": [
    "# test the sieve\n",
    "print(list(sieve(100)))"
   ],
   "id": "a88d86fdb60c724e",
   "outputs": [
    {
     "name": "stdout",
     "output_type": "stream",
     "text": [
      "[2, 3, 5, 7, 11, 13, 17, 19, 23, 29, 31, 37, 41, 43, 47, 53, 59, 61, 67, 71, 73, 79, 83, 89, 97]\n"
     ]
    }
   ],
   "execution_count": 13
  },
  {
   "metadata": {
    "ExecuteTime": {
     "end_time": "2025-02-13T07:40:11.490570Z",
     "start_time": "2025-02-13T07:40:11.421700Z"
    }
   },
   "cell_type": "code",
   "source": [
    "# how many primes < 100,000?\n",
    "# (we don't really want the list, so use sum() to just count the found primes)\n",
    "print(sum(1 for p in sieve(100_000)))"
   ],
   "id": "6b86f8e9d1ab6a76",
   "outputs": [
    {
     "name": "stdout",
     "output_type": "stream",
     "text": [
      "9592\n"
     ]
    }
   ],
   "execution_count": 14
  },
  {
   "metadata": {
    "ExecuteTime": {
     "end_time": "2025-02-13T07:42:27.497288Z",
     "start_time": "2025-02-13T07:42:27.492676Z"
    }
   },
   "cell_type": "code",
   "source": [
    "# look for twin primes (successive odd numbers that are both prime)\n",
    "primes = sieve(1000)\n",
    "prev_prime = next(primes)\n",
    "for prime in primes:\n",
    "    if prime - prev_prime == 2:\n",
    "        print(prev_prime, prime)\n",
    "    prev_prime = prime\n"
   ],
   "id": "8d7113e1eb471697",
   "outputs": [
    {
     "name": "stdout",
     "output_type": "stream",
     "text": [
      "3 5\n",
      "5 7\n",
      "11 13\n",
      "17 19\n",
      "29 31\n",
      "41 43\n",
      "59 61\n",
      "71 73\n",
      "101 103\n",
      "107 109\n",
      "137 139\n",
      "149 151\n",
      "179 181\n",
      "191 193\n",
      "197 199\n",
      "227 229\n",
      "239 241\n",
      "269 271\n",
      "281 283\n",
      "311 313\n",
      "347 349\n",
      "419 421\n",
      "431 433\n",
      "461 463\n",
      "521 523\n",
      "569 571\n",
      "599 601\n",
      "617 619\n",
      "641 643\n",
      "659 661\n",
      "809 811\n",
      "821 823\n",
      "827 829\n",
      "857 859\n",
      "881 883\n"
     ]
    }
   ],
   "execution_count": 16
  },
  {
   "metadata": {
    "ExecuteTime": {
     "end_time": "2025-02-13T07:51:58.728224Z",
     "start_time": "2025-02-13T07:51:49.127619Z"
    }
   },
   "cell_type": "code",
   "source": [
    "# find long runs of composites\n",
    "primes = sieve(5_000_000)\n",
    "prev_prime = next(primes)\n",
    "longest_run = 0\n",
    "primes_found = 1\n",
    "for prime in primes:\n",
    "    primes_found += 1\n",
    "    if prime - prev_prime > longest_run:\n",
    "        longest_run = prime - prev_prime\n",
    "        print(f\"New longest run: {longest_run} ({prev_prime:,} - {prime:,})\")\n",
    "    prev_prime = prime\n",
    "print(f\"Total prime numbers found: {primes_found:,}\")"
   ],
   "id": "beba54991acd6d54",
   "outputs": [
    {
     "name": "stdout",
     "output_type": "stream",
     "text": [
      "New longest run: 1 (2 - 3)\n",
      "New longest run: 2 (3 - 5)\n",
      "New longest run: 4 (7 - 11)\n",
      "New longest run: 6 (23 - 29)\n",
      "New longest run: 8 (89 - 97)\n",
      "New longest run: 14 (113 - 127)\n",
      "New longest run: 18 (523 - 541)\n",
      "New longest run: 20 (887 - 907)\n",
      "New longest run: 22 (1,129 - 1,151)\n",
      "New longest run: 34 (1,327 - 1,361)\n",
      "New longest run: 36 (9,551 - 9,587)\n",
      "New longest run: 44 (15,683 - 15,727)\n",
      "New longest run: 52 (19,609 - 19,661)\n",
      "New longest run: 72 (31,397 - 31,469)\n",
      "New longest run: 86 (155,921 - 156,007)\n",
      "New longest run: 96 (360,653 - 360,749)\n",
      "New longest run: 112 (370,261 - 370,373)\n",
      "New longest run: 114 (492,113 - 492,227)\n",
      "New longest run: 118 (1,349,533 - 1,349,651)\n",
      "New longest run: 132 (1,357,201 - 1,357,333)\n",
      "New longest run: 148 (2,010,733 - 2,010,881)\n",
      "New longest run: 154 (4,652,353 - 4,652,507)\n",
      "Total prime numbers found: 348,513\n"
     ]
    }
   ],
   "execution_count": 24
  }
 ],
 "metadata": {
  "kernelspec": {
   "display_name": "Python 3",
   "language": "python",
   "name": "python3"
  },
  "language_info": {
   "codemirror_mode": {
    "name": "ipython",
    "version": 2
   },
   "file_extension": ".py",
   "mimetype": "text/x-python",
   "name": "python",
   "nbconvert_exporter": "python",
   "pygments_lexer": "ipython2",
   "version": "2.7.6"
  }
 },
 "nbformat": 4,
 "nbformat_minor": 5
}
