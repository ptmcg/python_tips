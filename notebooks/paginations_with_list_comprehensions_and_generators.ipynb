{
 "cells": [
  {
   "cell_type": "code",
   "execution_count": null,
   "id": "initial_id",
   "metadata": {
    "collapsed": true
   },
   "outputs": [],
   "source": [
    ""
   ]
  },
  {
   "metadata": {},
   "cell_type": "markdown",
   "source": "# Pagination with iterators and generators",
   "id": "6c268ac5e5b49a56"
  },
  {
   "metadata": {},
   "cell_type": "markdown",
   "source": [
    "We'll simulate fetching data from a server, with a 5-record per page limit.\n",
    "\n",
    "First we need some data."
   ],
   "id": "4ab42ccfa7bc0f52"
  },
  {
   "metadata": {
    "ExecuteTime": {
     "end_time": "2025-02-11T22:25:04.571585Z",
     "start_time": "2025-02-11T22:25:04.563488Z"
    }
   },
   "cell_type": "code",
   "source": [
    "# characters in the movie versions of \"Dune\", and their respective actors\n",
    "dune_casts = [\n",
    "{\"character\": \"Alia Atreides\", \"actor_1984\": \"Alicia Witt\", \"actor_2000\": \"Laura Burton\", \"actor_2021\": \"Anya Taylor-Joy\"},\n",
    "{\"character\": \"Baron Vladimir Harkonnen\", \"actor_1984\": \"Kenneth McMillan\", \"actor_2000\": \"Ian McNeice\", \"actor_2021\": \"Stellan Skarsg\\u00e5rd\"},\n",
    "{\"character\": \"Chani\", \"actor_1984\": \"Sean Young\", \"actor_2000\": \"Barbora Kodetov\\u00e1\", \"actor_2021\": \"Zendaya\"},\n",
    "{\"character\": \"Dr. Liet-Kynes\", \"actor_1984\": \"Max von Sydow\", \"actor_2000\": \"Karel Dobr\\u00fd\", \"actor_2021\": \"Sharon Duncan-Brewster\"},\n",
    "{\"character\": \"Dr. Yueh\", \"actor_1984\": \"Dean Stockwell\", \"actor_2000\": \"Robert Russell\", \"actor_2021\": \"Chen Chang\"},\n",
    "{\"character\": \"Duke Leto Atreides\", \"actor_1984\": \"J\\u00fcrgen Prochnow\", \"actor_2000\": \"William Hurt\", \"actor_2021\": \"Oscar Isaac\"},\n",
    "{\"character\": \"Duncan Idaho\", \"actor_1984\": \"Richard Jordan\", \"actor_2000\": \"James Watson\", \"actor_2021\": \"Jason Momoa\"},\n",
    "{\"character\": \"Feyd-Rautha Harkonnen\", \"actor_1984\": \"Sting\", \"actor_2000\": \"Matt Keeslar\", \"actor_2021\": \"Austin Butler\"},\n",
    "{\"character\": \"Glossu Beast Rabban\", \"actor_1984\": \"Paul L. Smith\", \"actor_2000\": \"L\\u00e1szl\\u00f3 I. Kish\", \"actor_2021\": \"Dave Bautista\"},\n",
    "{\"character\": \"Gurney Halleck\", \"actor_1984\": \"Patrick Stewart\", \"actor_2000\": \"P.H. Moriarty\", \"actor_2021\": \"Josh Brolin\"},\n",
    "{\"character\": \"Harah\", \"actor_1984\": \"Molly Wryn\", \"actor_2000\": \"...\", \"actor_2021\": \"Gloria Obianyo\"},\n",
    "{\"character\": \"Jamis\", \"actor_1984\": \"Judd Omen\", \"actor_2000\": \"Christopher Lee Brown\", \"actor_2021\": \"Babs Olusanmokun\"},\n",
    "{\"character\": \"Lady Jessica Atreides\", \"actor_1984\": \"Francesca Annis\", \"actor_2000\": \"Saskia Reeves\", \"actor_2021\": \"Rebecca Ferguson\"},\n",
    "{\"character\": \"Otheym\", \"actor_1984\": \"Honorato Magaloni\", \"actor_2000\": \"Jakob Schwarz\", \"actor_2021\": \"...\"},\n",
    "{\"character\": \"Padishah Emperor Shaddam IV\", \"actor_1984\": \"Jos\\u00e9 Ferrer\", \"actor_2000\": \"Giancarlo Giannini\", \"actor_2021\": \"Christopher Walken\"},\n",
    "{\"character\": \"Paul Atreides\", \"actor_1984\": \"Kyle MacLachlan\", \"actor_2000\": \"Alec Newman\", \"actor_2021\": \"Timoth\\u00e9e Chalamet\"},\n",
    "{\"character\": \"Piter De Vries\", \"actor_1984\": \"Brad Dourif\", \"actor_2000\": \"Jan Unger\", \"actor_2021\": \"David Dastmalchian\"},\n",
    "{\"character\": \"Princess Irulan\", \"actor_1984\": \"Virginia Madsen\", \"actor_2000\": \"Julie Cox\", \"actor_2021\": \"Florence Pugh\"},\n",
    "{\"character\": \"Reverend Mother Gaius Helen Mohiam\", \"actor_1984\": \"Si\\u00e2n Phillips\", \"actor_2000\": \"Zuzana Geislerov\\u00e1\", \"actor_2021\": \"Charlotte Rampling\"},\n",
    "{\"character\": \"Reverend Mother Ramallo\", \"actor_1984\": \"Silvana Mangano\", \"actor_2000\": \"Drahom\\u00edra Fialkov\\u00e1\", \"actor_2021\": \"Giusi Merli\"},\n",
    "{\"character\": \"Shadout Mapes\", \"actor_1984\": \"Linda Hunt\", \"actor_2000\": \"Jaroslava Siktancova\", \"actor_2021\": \"Golda Rosheuvel\"},\n",
    "{\"character\": \"Stilgar\", \"actor_1984\": \"Everett McGill\", \"actor_2000\": \"Uwe Ochsenknecht\", \"actor_2021\": \"Javier Bardem\"},\n",
    "{\"character\": \"Thufir Hawat\", \"actor_1984\": \"Freddie Jones\", \"actor_2000\": \"Jan Vlas\\u00e1k\", \"actor_2021\": \"Stephen McKinley Henderson\"}\n",
    "]\n"
   ],
   "id": "f4670449987b92e",
   "outputs": [],
   "execution_count": 1
  },
  {
   "metadata": {},
   "cell_type": "markdown",
   "source": "This function simulates the server for this data. It returns the records in 5-record pages, and uses the Python `yield` statement to return each page in turn. Python 3.12 added the `batched` method to the standard library's `itertools` module - this method is itself a generator, that yields each 5-record batch of data.",
   "id": "c895b822ab8dfdbe"
  },
  {
   "metadata": {
    "ExecuteTime": {
     "end_time": "2025-02-11T22:25:05.005913Z",
     "start_time": "2025-02-11T22:25:05.001935Z"
    }
   },
   "cell_type": "code",
   "source": [
    "def server_pages():\n",
    "    \"\"\"\n",
    "    Return all records in pages of 5 at a time\n",
    "    \"\"\"\n",
    "    import itertools\n",
    "\n",
    "    for page in itertools.batched(dune_casts, 5):\n",
    "        print(f\"Server: send page of {len(page)} records\")\n",
    "        yield page"
   ],
   "id": "7e373249c0d058af",
   "outputs": [],
   "execution_count": 2
  },
  {
   "metadata": {},
   "cell_type": "markdown",
   "source": "Just calling this function doesn't do anything yet, it just gives us a generator:",
   "id": "2b56b6aa11f9966b"
  },
  {
   "metadata": {
    "ExecuteTime": {
     "end_time": "2025-02-11T23:50:54.018937Z",
     "start_time": "2025-02-11T23:50:54.014423Z"
    }
   },
   "cell_type": "code",
   "source": [
    "pages = server_pages()\n",
    "print(pages)\n",
    "print(type(pages))"
   ],
   "id": "9232ea559ff2a3f4",
   "outputs": [
    {
     "name": "stdout",
     "output_type": "stream",
     "text": [
      "<generator object server_pages at 0x000001E911560F40>\n",
      "<class 'generator'>\n"
     ]
    }
   ],
   "execution_count": 3
  },
  {
   "metadata": {},
   "cell_type": "markdown",
   "source": "We can manually iterate over a generator using `next()`.",
   "id": "f74968dd4fb22490"
  },
  {
   "metadata": {
    "ExecuteTime": {
     "end_time": "2025-02-11T23:52:15.317680Z",
     "start_time": "2025-02-11T23:52:15.312521Z"
    }
   },
   "cell_type": "code",
   "source": [
    "print(\"First page\")\n",
    "print(next(pages))\n",
    "\n",
    "print(\"Second page\")\n",
    "print(next(pages))"
   ],
   "id": "90d486da71ddbf85",
   "outputs": [
    {
     "name": "stdout",
     "output_type": "stream",
     "text": [
      "First page\n",
      "Server: send page of 5 records\n",
      "({'character': 'Alia Atreides', 'actor_1984': 'Alicia Witt', 'actor_2000': 'Laura Burton', 'actor_2021': 'Anya Taylor-Joy'}, {'character': 'Baron Vladimir Harkonnen', 'actor_1984': 'Kenneth McMillan', 'actor_2000': 'Ian McNeice', 'actor_2021': 'Stellan Skarsgård'}, {'character': 'Chani', 'actor_1984': 'Sean Young', 'actor_2000': 'Barbora Kodetová', 'actor_2021': 'Zendaya'}, {'character': 'Dr. Liet-Kynes', 'actor_1984': 'Max von Sydow', 'actor_2000': 'Karel Dobrý', 'actor_2021': 'Sharon Duncan-Brewster'}, {'character': 'Dr. Yueh', 'actor_1984': 'Dean Stockwell', 'actor_2000': 'Robert Russell', 'actor_2021': 'Chen Chang'})\n",
      "Second page\n",
      "Server: send page of 5 records\n",
      "({'character': 'Duke Leto Atreides', 'actor_1984': 'Jürgen Prochnow', 'actor_2000': 'William Hurt', 'actor_2021': 'Oscar Isaac'}, {'character': 'Duncan Idaho', 'actor_1984': 'Richard Jordan', 'actor_2000': 'James Watson', 'actor_2021': 'Jason Momoa'}, {'character': 'Feyd-Rautha Harkonnen', 'actor_1984': 'Sting', 'actor_2000': 'Matt Keeslar', 'actor_2021': 'Austin Butler'}, {'character': 'Glossu Beast Rabban', 'actor_1984': 'Paul L. Smith', 'actor_2000': 'László I. Kish', 'actor_2021': 'Dave Bautista'}, {'character': 'Gurney Halleck', 'actor_1984': 'Patrick Stewart', 'actor_2000': 'P.H. Moriarty', 'actor_2021': 'Josh Brolin'})\n"
     ]
    }
   ],
   "execution_count": 4
  },
  {
   "metadata": {},
   "cell_type": "markdown",
   "source": "Note that the `server_pages()` method doesn't print out the message \"send page of 5 records\" until the client pulls another page by iterating the generator using `next()`.",
   "id": "2cfec4fe64112673"
  },
  {
   "metadata": {},
   "cell_type": "markdown",
   "source": "If we keep calling next(), we eventually hit the end of the generator, at which point Python will raise the `StopIteration` exception.",
   "id": "fafb2042d4f46aab"
  },
  {
   "metadata": {
    "ExecuteTime": {
     "end_time": "2025-02-11T23:56:19.081500Z",
     "start_time": "2025-02-11T23:56:18.850611Z"
    }
   },
   "cell_type": "code",
   "source": [
    "print(next(pages))\n",
    "print(next(pages))\n",
    "print(next(pages))\n",
    "\n",
    "# this is one iteration too far\n",
    "print(next(pages))\n"
   ],
   "id": "9082993b3ccf76df",
   "outputs": [
    {
     "name": "stdout",
     "output_type": "stream",
     "text": [
      "Server: send page of 5 records\n",
      "({'character': 'Harah', 'actor_1984': 'Molly Wryn', 'actor_2000': '...', 'actor_2021': 'Gloria Obianyo'}, {'character': 'Jamis', 'actor_1984': 'Judd Omen', 'actor_2000': 'Christopher Lee Brown', 'actor_2021': 'Babs Olusanmokun'}, {'character': 'Lady Jessica Atreides', 'actor_1984': 'Francesca Annis', 'actor_2000': 'Saskia Reeves', 'actor_2021': 'Rebecca Ferguson'}, {'character': 'Otheym', 'actor_1984': 'Honorato Magaloni', 'actor_2000': 'Jakob Schwarz', 'actor_2021': '...'}, {'character': 'Padishah Emperor Shaddam IV', 'actor_1984': 'José Ferrer', 'actor_2000': 'Giancarlo Giannini', 'actor_2021': 'Christopher Walken'})\n",
      "Server: send page of 5 records\n",
      "({'character': 'Paul Atreides', 'actor_1984': 'Kyle MacLachlan', 'actor_2000': 'Alec Newman', 'actor_2021': 'Timothée Chalamet'}, {'character': 'Piter De Vries', 'actor_1984': 'Brad Dourif', 'actor_2000': 'Jan Unger', 'actor_2021': 'David Dastmalchian'}, {'character': 'Princess Irulan', 'actor_1984': 'Virginia Madsen', 'actor_2000': 'Julie Cox', 'actor_2021': 'Florence Pugh'}, {'character': 'Reverend Mother Gaius Helen Mohiam', 'actor_1984': 'Siân Phillips', 'actor_2000': 'Zuzana Geislerová', 'actor_2021': 'Charlotte Rampling'}, {'character': 'Reverend Mother Ramallo', 'actor_1984': 'Silvana Mangano', 'actor_2000': 'Drahomíra Fialková', 'actor_2021': 'Giusi Merli'})\n",
      "Server: send page of 3 records\n",
      "({'character': 'Shadout Mapes', 'actor_1984': 'Linda Hunt', 'actor_2000': 'Jaroslava Siktancova', 'actor_2021': 'Golda Rosheuvel'}, {'character': 'Stilgar', 'actor_1984': 'Everett McGill', 'actor_2000': 'Uwe Ochsenknecht', 'actor_2021': 'Javier Bardem'}, {'character': 'Thufir Hawat', 'actor_1984': 'Freddie Jones', 'actor_2000': 'Jan Vlasák', 'actor_2021': 'Stephen McKinley Henderson'})\n"
     ]
    },
    {
     "ename": "StopIteration",
     "evalue": "",
     "output_type": "error",
     "traceback": [
      "\u001B[1;31m---------------------------------------------------------------------------\u001B[0m",
      "\u001B[1;31mStopIteration\u001B[0m                             Traceback (most recent call last)",
      "Cell \u001B[1;32mIn[5], line 4\u001B[0m\n\u001B[0;32m      2\u001B[0m \u001B[38;5;28mprint\u001B[39m(\u001B[38;5;28mnext\u001B[39m(pages))\n\u001B[0;32m      3\u001B[0m \u001B[38;5;28mprint\u001B[39m(\u001B[38;5;28mnext\u001B[39m(pages))\n\u001B[1;32m----> 4\u001B[0m \u001B[38;5;28mprint\u001B[39m(\u001B[38;5;28;43mnext\u001B[39;49m\u001B[43m(\u001B[49m\u001B[43mpages\u001B[49m\u001B[43m)\u001B[49m)\n",
      "\u001B[1;31mStopIteration\u001B[0m: "
     ]
    }
   ],
   "execution_count": 5
  },
  {
   "metadata": {},
   "cell_type": "markdown",
   "source": "At this point, all future calls to `next()` on the `pages` generator will continue to raise `StopIteration`.",
   "id": "5da0318c216b9fa3"
  },
  {
   "metadata": {
    "ExecuteTime": {
     "end_time": "2025-02-11T23:57:34.641906Z",
     "start_time": "2025-02-11T23:57:34.628301Z"
    }
   },
   "cell_type": "code",
   "source": "print(next(pages))",
   "id": "4697e49a327233bd",
   "outputs": [
    {
     "ename": "StopIteration",
     "evalue": "",
     "output_type": "error",
     "traceback": [
      "\u001B[1;31m---------------------------------------------------------------------------\u001B[0m",
      "\u001B[1;31mStopIteration\u001B[0m                             Traceback (most recent call last)",
      "Cell \u001B[1;32mIn[6], line 1\u001B[0m\n\u001B[1;32m----> 1\u001B[0m \u001B[38;5;28mprint\u001B[39m(\u001B[38;5;28;43mnext\u001B[39;49m\u001B[43m(\u001B[49m\u001B[43mpages\u001B[49m\u001B[43m)\u001B[49m)\n",
      "\u001B[1;31mStopIteration\u001B[0m: "
     ]
    }
   ],
   "execution_count": 6
  },
  {
   "metadata": {},
   "cell_type": "markdown",
   "source": [
    "But manually iterating over all the pages using explicit calls to next() is more often done using a basic for-loop. Python for loops that loop over a generator will:\n",
    "\n",
    "    - implicitly call next() for each loop\n",
    "    - catch the trailing StopIteration exception as an indication to stop looping and move on to the next statement to execute\n",
    "\n"
   ],
   "id": "ca2d6afccc1721f7"
  },
  {
   "metadata": {
    "ExecuteTime": {
     "end_time": "2025-02-12T00:04:14.091233Z",
     "start_time": "2025-02-12T00:04:14.086148Z"
    }
   },
   "cell_type": "code",
   "source": [
    "# start by getting a new generator, since we've used up the previous one\n",
    "pages = server_pages()\n",
    "\n",
    "for page in server_pages():\n",
    "    print(f\"Client: got a page containing {len(page)} pages\")\n",
    "    print(f\"Characters: {', '.join(rec['character'] for rec in page)}\")\n"
   ],
   "id": "9241fb85ac89c3e7",
   "outputs": [
    {
     "name": "stdout",
     "output_type": "stream",
     "text": [
      "Server: send page of 5 records\n",
      "Client: got a page containing 5 pages\n",
      "Characters: Alia Atreides, Baron Vladimir Harkonnen, Chani, Dr. Liet-Kynes, Dr. Yueh\n",
      "Server: send page of 5 records\n",
      "Client: got a page containing 5 pages\n",
      "Characters: Duke Leto Atreides, Duncan Idaho, Feyd-Rautha Harkonnen, Glossu Beast Rabban, Gurney Halleck\n",
      "Server: send page of 5 records\n",
      "Client: got a page containing 5 pages\n",
      "Characters: Harah, Jamis, Lady Jessica Atreides, Otheym, Padishah Emperor Shaddam IV\n",
      "Server: send page of 5 records\n",
      "Client: got a page containing 5 pages\n",
      "Characters: Paul Atreides, Piter De Vries, Princess Irulan, Reverend Mother Gaius Helen Mohiam, Reverend Mother Ramallo\n",
      "Server: send page of 3 records\n",
      "Client: got a page containing 3 pages\n",
      "Characters: Shadout Mapes, Stilgar, Thufir Hawat\n"
     ]
    }
   ],
   "execution_count": 8
  },
  {
   "metadata": {},
   "cell_type": "markdown",
   "source": "It would be good on the client side to be able to hide the actual pagination structure, and make this look like just a continuous stream of records. So we can write a client-side generator method that, for each page received, unpacks that page and yields each record to its caller.",
   "id": "6714a23009a181ab"
  },
  {
   "metadata": {
    "ExecuteTime": {
     "end_time": "2025-02-12T00:08:35.612015Z",
     "start_time": "2025-02-12T00:08:35.607104Z"
    }
   },
   "cell_type": "code",
   "source": [
    "def client_get_records():\n",
    "    \"\"\"\n",
    "    Convert pages into a continuous stream of records.\n",
    "    \"\"\"\n",
    "    for page in server_pages():\n",
    "        print(f\"Client: got a page containing {len(page)} records\")\n",
    "        for rec in page:\n",
    "            yield rec\n"
   ],
   "id": "4d65ccf2532f4c0a",
   "outputs": [],
   "execution_count": 9
  },
  {
   "metadata": {},
   "cell_type": "markdown",
   "source": "`client_get_records` is its own generator function, and it will send all the records in each page, and in turn get a new page when the current page is exhausted.",
   "id": "e80c406eaa463c42"
  },
  {
   "metadata": {
    "ExecuteTime": {
     "end_time": "2025-02-12T00:10:03.247643Z",
     "start_time": "2025-02-12T00:10:03.243110Z"
    }
   },
   "cell_type": "code",
   "source": [
    "for rec in client_get_records():\n",
    "    print(rec[\"character\"])\n"
   ],
   "id": "93faf62d7b121af6",
   "outputs": [
    {
     "name": "stdout",
     "output_type": "stream",
     "text": [
      "Server: send page of 5 records\n",
      "Client: got a page containing 5 records\n",
      "Alia Atreides\n",
      "Baron Vladimir Harkonnen\n",
      "Chani\n",
      "Dr. Liet-Kynes\n",
      "Dr. Yueh\n",
      "Server: send page of 5 records\n",
      "Client: got a page containing 5 records\n",
      "Duke Leto Atreides\n",
      "Duncan Idaho\n",
      "Feyd-Rautha Harkonnen\n",
      "Glossu Beast Rabban\n",
      "Gurney Halleck\n",
      "Server: send page of 5 records\n",
      "Client: got a page containing 5 records\n",
      "Harah\n",
      "Jamis\n",
      "Lady Jessica Atreides\n",
      "Otheym\n",
      "Padishah Emperor Shaddam IV\n",
      "Server: send page of 5 records\n",
      "Client: got a page containing 5 records\n",
      "Paul Atreides\n",
      "Piter De Vries\n",
      "Princess Irulan\n",
      "Reverend Mother Gaius Helen Mohiam\n",
      "Reverend Mother Ramallo\n",
      "Server: send page of 3 records\n",
      "Client: got a page containing 3 records\n",
      "Shadout Mapes\n",
      "Stilgar\n",
      "Thufir Hawat\n"
     ]
    }
   ],
   "execution_count": 11
  },
  {
   "metadata": {},
   "cell_type": "markdown",
   "source": "`client_get_records()` can yield each page-worth of records using a single statement instead of a for-loop:\n",
   "id": "d702b838969f843e"
  },
  {
   "metadata": {
    "ExecuteTime": {
     "end_time": "2025-02-12T00:12:21.834278Z",
     "start_time": "2025-02-12T00:12:21.828773Z"
    }
   },
   "cell_type": "code",
   "source": [
    "def client_get_records():\n",
    "    \"\"\"\n",
    "    Convert pages into a continuous stream of records.\n",
    "    \"\"\"\n",
    "    for page in server_pages():\n",
    "        print(f\"Client: got a page containing {len(page)} records\")\n",
    "        yield from page"
   ],
   "id": "f7b184c2f76da2ff",
   "outputs": [],
   "execution_count": 12
  },
  {
   "metadata": {
    "ExecuteTime": {
     "end_time": "2025-02-12T00:12:23.554738Z",
     "start_time": "2025-02-12T00:12:23.549890Z"
    }
   },
   "cell_type": "code",
   "source": [
    "for rec in client_get_records():\n",
    "    print(rec[\"character\"])"
   ],
   "id": "6bea5181ac8ed863",
   "outputs": [
    {
     "name": "stdout",
     "output_type": "stream",
     "text": [
      "Server: send page of 5 records\n",
      "Client: got a page containing 5 records\n",
      "Alia Atreides\n",
      "Baron Vladimir Harkonnen\n",
      "Chani\n",
      "Dr. Liet-Kynes\n",
      "Dr. Yueh\n",
      "Server: send page of 5 records\n",
      "Client: got a page containing 5 records\n",
      "Duke Leto Atreides\n",
      "Duncan Idaho\n",
      "Feyd-Rautha Harkonnen\n",
      "Glossu Beast Rabban\n",
      "Gurney Halleck\n",
      "Server: send page of 5 records\n",
      "Client: got a page containing 5 records\n",
      "Harah\n",
      "Jamis\n",
      "Lady Jessica Atreides\n",
      "Otheym\n",
      "Padishah Emperor Shaddam IV\n",
      "Server: send page of 5 records\n",
      "Client: got a page containing 5 records\n",
      "Paul Atreides\n",
      "Piter De Vries\n",
      "Princess Irulan\n",
      "Reverend Mother Gaius Helen Mohiam\n",
      "Reverend Mother Ramallo\n",
      "Server: send page of 3 records\n",
      "Client: got a page containing 3 records\n",
      "Shadout Mapes\n",
      "Stilgar\n",
      "Thufir Hawat\n"
     ]
    }
   ],
   "execution_count": 13
  },
  {
   "metadata": {},
   "cell_type": "markdown",
   "source": "Generators can be economical on memory, since they don't instantiate a result until the caller pulls from the generator's yield statement. Generators can be passed around as well, or use for filters - this is a more functional style of programming.",
   "id": "4f8688770c68082e"
  }
 ],
 "metadata": {
  "kernelspec": {
   "display_name": "Python 3",
   "language": "python",
   "name": "python3"
  },
  "language_info": {
   "codemirror_mode": {
    "name": "ipython",
    "version": 2
   },
   "file_extension": ".py",
   "mimetype": "text/x-python",
   "name": "python",
   "nbconvert_exporter": "python",
   "pygments_lexer": "ipython2",
   "version": "2.7.6"
  }
 },
 "nbformat": 4,
 "nbformat_minor": 5
}
