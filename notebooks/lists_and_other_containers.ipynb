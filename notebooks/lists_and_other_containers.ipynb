{
 "cells": [
  {
   "metadata": {},
   "cell_type": "markdown",
   "source": [
    "# Lists and Other Containers\n",
    "Python's builtins include helpful container types, which can be treated as sequences (iterable, and accessible by index)\n",
    "\n",
    "- list\n",
    "- tuple (like a list, but immutable)\n",
    "- dict (mapping of keys to values)\n",
    "\n",
    "Python also includes sets, which can be iterated over, but cannot be referenced by index. Iterating over a set gives the set values in no particular order."
   ],
   "id": "673c9274742f7769"
  },
  {
   "metadata": {},
   "cell_type": "markdown",
   "source": "## Use sets to build list of unique items (when the items are hashable)",
   "id": "1ff91cca1f5262f4"
  },
  {
   "metadata": {
    "ExecuteTime": {
     "end_time": "2025-02-06T06:40:47.880305Z",
     "start_time": "2025-02-06T06:40:47.875750Z"
    }
   },
   "cell_type": "code",
   "source": [
    "a = \"The quick brown fox jumps over the lazy dog.\"\n",
    "print(f\"{a=!r}\")\n",
    "\n",
    "uniq_chars = list(set(a))\n",
    "print(f\"{uniq_chars=}\")"
   ],
   "id": "5f4fad6527cdd745",
   "outputs": [
    {
     "name": "stdout",
     "output_type": "stream",
     "text": [
      "a='The quick brown fox jumps over the lazy dog.'\n",
      "uniq_chars=['u', 't', 'z', 'T', 'w', 'o', 'e', 'j', 'i', 's', 'y', 'm', 'l', 'g', 'v', 'q', 'r', 'h', 'p', 'k', 'b', 'd', 'x', 'a', 'c', ' ', 'n', '.', 'f']\n"
     ]
    }
   ],
   "execution_count": 5
  },
  {
   "metadata": {
    "ExecuteTime": {
     "end_time": "2025-02-06T06:40:55.118071Z",
     "start_time": "2025-02-06T06:40:55.112174Z"
    }
   },
   "cell_type": "code",
   "source": [
    "# or if you must preserve order\n",
    "seen = set()\n",
    "uniq_chars = []\n",
    "for c in a:\n",
    "    # testing for set membership is O(1)\n",
    "    if c not in seen:\n",
    "        seen.add(c)\n",
    "        uniq_chars.append(c)\n",
    "print(f\"{uniq_chars=}\")"
   ],
   "id": "b0d6184d1029bdeb",
   "outputs": [
    {
     "name": "stdout",
     "output_type": "stream",
     "text": [
      "uniq_chars=['T', 'h', 'e', ' ', 'q', 'u', 'i', 'c', 'k', 'b', 'r', 'o', 'w', 'n', 'f', 'x', 'j', 'm', 'p', 's', 'v', 't', 'l', 'a', 'z', 'y', 'd', 'g', '.']\n"
     ]
    }
   ],
   "execution_count": 6
  },
  {
   "metadata": {
    "ExecuteTime": {
     "end_time": "2025-02-06T06:41:00.257710Z",
     "start_time": "2025-02-06T06:41:00.254221Z"
    }
   },
   "cell_type": "code",
   "source": [
    "# new since Python 3.7 - dicts preserve insertion order\n",
    "uniq_chars = list(dict.fromkeys(a))\n",
    "print(f\"{uniq_chars=}\")"
   ],
   "id": "2e2a783730941e2",
   "outputs": [
    {
     "name": "stdout",
     "output_type": "stream",
     "text": [
      "uniq_chars=['T', 'h', 'e', ' ', 'q', 'u', 'i', 'c', 'k', 'b', 'r', 'o', 'w', 'n', 'f', 'x', 'j', 'm', 'p', 's', 'v', 't', 'l', 'a', 'z', 'y', 'd', 'g', '.']\n"
     ]
    }
   ],
   "execution_count": 7
  },
  {
   "metadata": {},
   "cell_type": "markdown",
   "source": "## Unpacking values from a list into separate variables <br>(_sequence unpacking_)",
   "id": "bb13b1f349e79c23"
  },
  {
   "metadata": {
    "ExecuteTime": {
     "end_time": "2025-02-06T07:05:01.508869Z",
     "start_time": "2025-02-06T07:05:01.503494Z"
    }
   },
   "cell_type": "code",
   "source": [
    "lst = [1, 2, 3]\n",
    "a = lst[0]\n",
    "b = lst[1]\n",
    "c = lst[2]\n",
    "print(lst, \"->\", a, b, c)"
   ],
   "id": "be1150c592e9b52f",
   "outputs": [
    {
     "name": "stdout",
     "output_type": "stream",
     "text": [
      "[1, 2, 3] -> 1 2 3\n"
     ]
    }
   ],
   "execution_count": 22
  },
  {
   "metadata": {
    "ExecuteTime": {
     "end_time": "2025-02-06T06:59:04.949704Z",
     "start_time": "2025-02-06T06:59:04.945546Z"
    }
   },
   "cell_type": "code",
   "source": [
    "# use sequence unpacking\n",
    "a, b, c = lst\n",
    "print(lst, \"->\", a, b, c)"
   ],
   "id": "2fe1c7d61b0cc76c",
   "outputs": [
    {
     "name": "stdout",
     "output_type": "stream",
     "text": [
      "[1, 2, 3] -> 1 2 3\n"
     ]
    }
   ],
   "execution_count": 16
  },
  {
   "metadata": {
    "ExecuteTime": {
     "end_time": "2025-02-06T07:05:43.157019Z",
     "start_time": "2025-02-06T07:05:42.962222Z"
    }
   },
   "cell_type": "code",
   "source": [
    "# can be fragile\n",
    "lst = [1, 2]\n",
    "a, b, c = lst"
   ],
   "id": "75ce26df04d9feac",
   "outputs": [
    {
     "ename": "ValueError",
     "evalue": "not enough values to unpack (expected 3, got 2)",
     "output_type": "error",
     "traceback": [
      "\u001B[1;31m---------------------------------------------------------------------------\u001B[0m",
      "\u001B[1;31mValueError\u001B[0m                                Traceback (most recent call last)",
      "Cell \u001B[1;32mIn[23], line 3\u001B[0m\n\u001B[0;32m      1\u001B[0m \u001B[38;5;66;03m# can be fragile\u001B[39;00m\n\u001B[0;32m      2\u001B[0m lst \u001B[38;5;241m=\u001B[39m [\u001B[38;5;241m1\u001B[39m, \u001B[38;5;241m2\u001B[39m]\n\u001B[1;32m----> 3\u001B[0m a, b, c \u001B[38;5;241m=\u001B[39m lst\n",
      "\u001B[1;31mValueError\u001B[0m: not enough values to unpack (expected 3, got 2)"
     ]
    }
   ],
   "execution_count": 23
  },
  {
   "metadata": {
    "ExecuteTime": {
     "end_time": "2025-02-06T07:05:58.347744Z",
     "start_time": "2025-02-06T07:05:58.342922Z"
    }
   },
   "cell_type": "code",
   "source": [
    "# if lst might be longer\n",
    "lst = [1, 2, 3, 4, 5, 6]\n",
    "a, b, c, *_ = lst\n",
    "print(lst, \"->\", a, b, c)"
   ],
   "id": "edf73c6cd4758d1e",
   "outputs": [
    {
     "name": "stdout",
     "output_type": "stream",
     "text": [
      "[1, 2, 3, 4, 5, 6] -> 1 2 3\n"
     ]
    }
   ],
   "execution_count": 24
  },
  {
   "metadata": {
    "ExecuteTime": {
     "end_time": "2025-02-06T07:06:00.549861Z",
     "start_time": "2025-02-06T07:06:00.545820Z"
    }
   },
   "cell_type": "code",
   "source": [
    "# if lst might be shorter (or longer)\n",
    "lst = [1, 2]\n",
    "a, b, c, *_ = (*lst, 0, 0, 0)\n",
    "print(lst, \"->\", a, b, c)"
   ],
   "id": "c0bb704292852119",
   "outputs": [
    {
     "name": "stdout",
     "output_type": "stream",
     "text": [
      "[1, 2] -> 1 2 0\n"
     ]
    }
   ],
   "execution_count": 25
  },
  {
   "metadata": {},
   "cell_type": "markdown",
   "source": "### Use unpacking to swap two values",
   "id": "9061704f49f15b87"
  },
  {
   "metadata": {
    "ExecuteTime": {
     "end_time": "2025-02-06T07:40:45.548001Z",
     "start_time": "2025-02-06T07:40:45.541834Z"
    }
   },
   "cell_type": "code",
   "source": [
    "#Non-Python\n",
    "a, b = 1, 2\n",
    "print(a, b)\n",
    "\n",
    "tmp = a\n",
    "a = b\n",
    "b = tmp\n",
    "print(a, b)\n",
    "\n",
    "# Python (uses tuple unpacking) - put them back the way they were\n",
    "a, b = b, a\n",
    "print(a, b)"
   ],
   "id": "de219dfcdcc0bb6e",
   "outputs": [
    {
     "name": "stdout",
     "output_type": "stream",
     "text": [
      "1 2\n",
      "2 1\n",
      "1 2\n"
     ]
    }
   ],
   "execution_count": 46
  },
  {
   "metadata": {},
   "cell_type": "markdown",
   "source": "## Iterating over the items in a list",
   "id": "dae5d7e4f90f7374"
  },
  {
   "metadata": {
    "ExecuteTime": {
     "end_time": "2025-02-06T07:55:30.641707Z",
     "start_time": "2025-02-06T07:55:30.635842Z"
    }
   },
   "cell_type": "code",
   "source": [
    "seq = 'a list of words varying in length'.split()\n",
    "\n",
    "# explicit indexing - common when using Python after developing in C\n",
    "for i in range(len(seq)):\n",
    "    # do something with seq[i]\n",
    "    print(seq[i].title(), end=\" \")\n",
    "print()\n",
    "\n",
    "# better - just iterate over the sequence\n",
    "for item in seq:\n",
    "    # do something with item\n",
    "    print(item.title(), end=\" \")"
   ],
   "id": "a45f507e7c788ee3",
   "outputs": [
    {
     "name": "stdout",
     "output_type": "stream",
     "text": [
      "A List Of Words Varying In Length \n",
      "A List Of Words Varying In Length "
     ]
    }
   ],
   "execution_count": 62
  },
  {
   "metadata": {
    "ExecuteTime": {
     "end_time": "2025-02-06T07:55:33.328311Z",
     "start_time": "2025-02-06T07:55:33.323691Z"
    }
   },
   "cell_type": "code",
   "source": [
    "# if you absolutely need the index, use enumerate()\n",
    "for i, item in enumerate(seq):\n",
    "    # i is the index, item is seq[i]\n",
    "    # i goes from 0 to len(seq)-1\n",
    "    print(i, item)"
   ],
   "id": "9487129faf364647",
   "outputs": [
    {
     "name": "stdout",
     "output_type": "stream",
     "text": [
      "0 a\n",
      "1 list\n",
      "2 of\n",
      "3 words\n",
      "4 varying\n",
      "5 in\n",
      "6 length\n"
     ]
    }
   ],
   "execution_count": 63
  },
  {
   "metadata": {
    "ExecuteTime": {
     "end_time": "2025-02-06T07:55:36.333687Z",
     "start_time": "2025-02-06T07:55:36.329284Z"
    }
   },
   "cell_type": "code",
   "source": [
    "# enumerate takes an optional 'start' argument\n",
    "for i, item in enumerate(seq, start=1):\n",
    "    # i now goes from 1 to len(seq)\n",
    "    print(i, item)"
   ],
   "id": "34f9810af9b2b642",
   "outputs": [
    {
     "name": "stdout",
     "output_type": "stream",
     "text": [
      "1 a\n",
      "2 list\n",
      "3 of\n",
      "4 words\n",
      "5 varying\n",
      "6 in\n",
      "7 length\n"
     ]
    }
   ],
   "execution_count": 64
  },
  {
   "metadata": {},
   "cell_type": "markdown",
   "source": "## Never update a list while iterating over it",
   "id": "b281daa5818d4191"
  },
  {
   "metadata": {
    "ExecuteTime": {
     "end_time": "2025-02-06T07:29:27.867507Z",
     "start_time": "2025-02-06T07:29:27.851223Z"
    }
   },
   "cell_type": "code",
   "source": [
    "seq = 'a list of the words varying in its length'.split()\n",
    "print(seq)\n",
    "\n",
    "# remove 3-letter words or shorter\n",
    "for i, item in enumerate(seq):\n",
    "    print(i, item, end=\" \")\n",
    "    if len(item) <= 3:\n",
    "        print(\"X\")\n",
    "        del seq[i]  # <-- bug! will skip over \"the\" and \"its\"\n",
    "    else:\n",
    "        print()\n",
    "print(seq)\n",
    "print(f\"All words are longer than 3 characters: {all(len(wd) > 3 for wd in seq)}\")\n",
    "\n",
    "# use asserts in test code, but not production code\n",
    "assert all(len(wd) > 3 for wd in seq), \"Found at least one word <= 3 characters\""
   ],
   "id": "a63f93e2250c38f8",
   "outputs": [
    {
     "name": "stdout",
     "output_type": "stream",
     "text": [
      "['a', 'list', 'of', 'the', 'words', 'varying', 'in', 'its', 'length']\n",
      "0 a X\n",
      "1 of X\n",
      "2 words \n",
      "3 varying \n",
      "4 in X\n",
      "5 length \n",
      "['list', 'the', 'words', 'varying', 'its', 'length']\n",
      "All words are longer than 3 characters: False\n"
     ]
    },
    {
     "ename": "AssertionError",
     "evalue": "Found at least one word <= 3 characters",
     "output_type": "error",
     "traceback": [
      "\u001B[1;31m---------------------------------------------------------------------------\u001B[0m",
      "\u001B[1;31mAssertionError\u001B[0m                            Traceback (most recent call last)",
      "Cell \u001B[1;32mIn[43], line 16\u001B[0m\n\u001B[0;32m     13\u001B[0m \u001B[38;5;28mprint\u001B[39m(\u001B[38;5;124mf\u001B[39m\u001B[38;5;124m\"\u001B[39m\u001B[38;5;124mAll words are longer than 3 characters: \u001B[39m\u001B[38;5;132;01m{\u001B[39;00m\u001B[38;5;28mall\u001B[39m(\u001B[38;5;28mlen\u001B[39m(wd)\u001B[38;5;250m \u001B[39m\u001B[38;5;241m>\u001B[39m\u001B[38;5;250m \u001B[39m\u001B[38;5;241m3\u001B[39m\u001B[38;5;250m \u001B[39m\u001B[38;5;28;01mfor\u001B[39;00m\u001B[38;5;250m \u001B[39mwd\u001B[38;5;250m \u001B[39m\u001B[38;5;129;01min\u001B[39;00m\u001B[38;5;250m \u001B[39mseq)\u001B[38;5;132;01m}\u001B[39;00m\u001B[38;5;124m\"\u001B[39m)\n\u001B[0;32m     15\u001B[0m \u001B[38;5;66;03m# use asserts in test code, but not production code\u001B[39;00m\n\u001B[1;32m---> 16\u001B[0m \u001B[38;5;28;01massert\u001B[39;00m \u001B[38;5;28mall\u001B[39m(\u001B[38;5;28mlen\u001B[39m(wd) \u001B[38;5;241m>\u001B[39m \u001B[38;5;241m3\u001B[39m \u001B[38;5;28;01mfor\u001B[39;00m wd \u001B[38;5;129;01min\u001B[39;00m seq), \u001B[38;5;124m\"\u001B[39m\u001B[38;5;124mFound at least one word <= 3 characters\u001B[39m\u001B[38;5;124m\"\u001B[39m\n",
      "\u001B[1;31mAssertionError\u001B[0m: Found at least one word <= 3 characters"
     ]
    }
   ],
   "execution_count": 43
  },
  {
   "metadata": {
    "ExecuteTime": {
     "end_time": "2025-02-06T07:29:19.944900Z",
     "start_time": "2025-02-06T07:29:19.940451Z"
    }
   },
   "cell_type": "code",
   "source": [
    "# create a new list containing just what you want\n",
    "seq = 'a list of the words varying in its length'.split()\n",
    "\n",
    "# list comprehension is the perfect tool\n",
    "seq = [word for word in seq if len(word) > 3]\n",
    "print(seq)\n",
    "print(f\"All words are longer than 3 characters: {all(len(wd) > 3 for wd in seq)}\")\n",
    "assert all(len(wd) > 3 for wd in seq), \"Found at least one word <= 3 characters\""
   ],
   "id": "f45226c4be4f358a",
   "outputs": [
    {
     "name": "stdout",
     "output_type": "stream",
     "text": [
      "['list', 'words', 'varying', 'length']\n",
      "All words are longer than 3 characters: True\n"
     ]
    }
   ],
   "execution_count": 42
  },
  {
   "metadata": {},
   "cell_type": "markdown",
   "source": "## Updating lists passed to functions",
   "id": "bf26945cea838871"
  },
  {
   "metadata": {
    "ExecuteTime": {
     "end_time": "2025-02-06T07:17:01.717640Z",
     "start_time": "2025-02-06T07:17:01.712504Z"
    }
   },
   "cell_type": "code",
   "source": [
    "# assigning to the argument inside the function doesn't change the value in the caller\n",
    "def remove_short_words(seq_arg: list[str], min_length: int = 4) -> None:\n",
    "    \"\"\"Update sequence in place, removing words shorter than min_length\"\"\"\n",
    "    seq_arg = [word for word in seq if len(word) >= min_length]\n",
    "    # unfortunately, this statement defines a new local variable 'seq_arg',\n",
    "    # so the list in the caller is unchanged\n",
    "\n",
    "seq = 'a list of the words varying in length'.split()\n",
    "print(seq)\n",
    "remove_short_words(seq)\n",
    "print(seq)"
   ],
   "id": "c87eec34ab47855a",
   "outputs": [
    {
     "name": "stdout",
     "output_type": "stream",
     "text": [
      "['a', 'list', 'of', 'the', 'words', 'varying', 'in', 'length']\n",
      "['a', 'list', 'of', 'the', 'words', 'varying', 'in', 'length']\n"
     ]
    }
   ],
   "execution_count": 31
  },
  {
   "metadata": {
    "ExecuteTime": {
     "end_time": "2025-02-06T07:17:49.734125Z",
     "start_time": "2025-02-06T07:17:49.728568Z"
    }
   },
   "cell_type": "code",
   "source": [
    "# use slice assignment inside function to update the given list\n",
    "def remove_short_words(seq_arg: list[str], min_length: int = 4) -> None:\n",
    "    \"\"\"Update sequence in place, removing words shorter than min_length\"\"\"\n",
    "    seq_arg[:] = [word for word in seq if len(word) >= min_length]\n",
    "    # this statement modifies the contents of the supplied list argument\n",
    "\n",
    "seq = 'a list of the words varying in length'.split()\n",
    "print(seq)\n",
    "remove_short_words(seq)\n",
    "print(seq)"
   ],
   "id": "a9933e7cde18fd91",
   "outputs": [
    {
     "name": "stdout",
     "output_type": "stream",
     "text": [
      "['a', 'list', 'of', 'the', 'words', 'varying', 'in', 'length']\n",
      "['list', 'words', 'varying', 'length']\n"
     ]
    }
   ],
   "execution_count": 32
  },
  {
   "metadata": {},
   "cell_type": "markdown",
   "source": "## Iterating over dicts",
   "id": "881d86d8e9f5b5f4"
  },
  {
   "metadata": {
    "ExecuteTime": {
     "end_time": "2025-02-06T08:02:17.068358Z",
     "start_time": "2025-02-06T08:02:17.063902Z"
    }
   },
   "cell_type": "code",
   "source": [
    "foghorn_leghorn = \"Now who's responsible I say who's responsible for this unwarranted attack upon my person?\"\n",
    "dd = {wd: position for position, wd in enumerate(foghorn_leghorn.split())}\n",
    "\n",
    "# iterate over dict gives the dict's keys, in the order they were first inserted\n",
    "for item in dd:\n",
    "    print(item)"
   ],
   "id": "62c3099e2e1effc0",
   "outputs": [
    {
     "name": "stdout",
     "output_type": "stream",
     "text": [
      "Now\n",
      "who's\n",
      "responsible\n",
      "I\n",
      "say\n",
      "for\n",
      "this\n",
      "unwarranted\n",
      "attack\n",
      "upon\n",
      "my\n",
      "person?\n"
     ]
    }
   ],
   "execution_count": 69
  },
  {
   "metadata": {
    "ExecuteTime": {
     "end_time": "2025-02-06T08:01:12.087750Z",
     "start_time": "2025-02-06T08:01:12.083749Z"
    }
   },
   "cell_type": "code",
   "source": [
    "# use dict.items() to iterate over keys and values\n",
    "for wd, last_position in dd.items():\n",
    "    print(f\"{wd=!r} {last_position=}\")"
   ],
   "id": "414655eb098a8c7d",
   "outputs": [
    {
     "name": "stdout",
     "output_type": "stream",
     "text": [
      "wd='Now' last_position=0\n",
      "wd=\"who's\" last_position=5\n",
      "wd='responsible' last_position=6\n",
      "wd='I' last_position=3\n",
      "wd='say' last_position=4\n",
      "wd='for' last_position=7\n",
      "wd='this' last_position=8\n",
      "wd='unwarranted' last_position=9\n",
      "wd='attack' last_position=10\n",
      "wd='upon' last_position=11\n",
      "wd='my' last_position=12\n",
      "wd='person?' last_position=13\n"
     ]
    }
   ],
   "execution_count": 68
  },
  {
   "metadata": {},
   "cell_type": "markdown",
   "source": "## Iterating over two sequences",
   "id": "521414d6c40bbf8f"
  },
  {
   "metadata": {
    "ExecuteTime": {
     "end_time": "2025-02-06T08:05:51.824316Z",
     "start_time": "2025-02-06T08:05:51.819259Z"
    }
   },
   "cell_type": "code",
   "source": [
    "items = \"eggs milk bananas bread\".split()\n",
    "aisles = \"dairy dairy produce bakery\".split()\n",
    "\n",
    "# using indexing\n",
    "for i, item in enumerate(items):\n",
    "    aisle = aisles[i]\n",
    "    print(f\"{aisle} - {item}\")"
   ],
   "id": "6240fc2104c47f5d",
   "outputs": [
    {
     "name": "stdout",
     "output_type": "stream",
     "text": [
      "dairy - eggs\n",
      "dairy - milk\n",
      "produce - bananas\n",
      "bakery - bread\n"
     ]
    }
   ],
   "execution_count": 71
  },
  {
   "metadata": {
    "ExecuteTime": {
     "end_time": "2025-02-06T08:06:46.398899Z",
     "start_time": "2025-02-06T08:06:46.393120Z"
    }
   },
   "cell_type": "code",
   "source": [
    "# iterate over both lists together using zip()\n",
    "for item, aisle in zip(items, aisles):\n",
    "    print(f\"{aisle} - {item}\")"
   ],
   "id": "557a13c3faa709c1",
   "outputs": [
    {
     "name": "stdout",
     "output_type": "stream",
     "text": [
      "dairy - eggs\n",
      "dairy - milk\n",
      "produce - bananas\n",
      "bakery - bread\n"
     ]
    }
   ],
   "execution_count": 72
  },
  {
   "metadata": {},
   "cell_type": "markdown",
   "source": "### Extra credit - use `collections.defaultdict` to group items by aisle",
   "id": "d84fad5cb4691a9d"
  },
  {
   "metadata": {
    "ExecuteTime": {
     "end_time": "2025-02-06T08:24:55.124512Z",
     "start_time": "2025-02-06T08:24:55.118737Z"
    }
   },
   "cell_type": "code",
   "outputs": [
    {
     "name": "stdout",
     "output_type": "stream",
     "text": [
      "dairy - ['eggs', 'milk']\n",
      "produce - ['bananas']\n",
      "bakery - ['bread']\n"
     ]
    }
   ],
   "execution_count": 79,
   "source": [
    "import collections\n",
    "\n",
    "# using defaultdict, new keys will be initialized with the given factory method\n",
    "# in this case, a new aisle entry will get initialized with an empty list\n",
    "aisle_items = collections.defaultdict(list)\n",
    "\n",
    "for item, aisle in zip(items, aisles):\n",
    "    aisle_items[aisle].append(item)\n",
    "\n",
    "for aisle, item_list in aisle_items.items():\n",
    "    print(f\"{aisle} - {item_list}\")"
   ],
   "id": "18ec1278619c5457"
  }
 ],
 "metadata": {
  "kernelspec": {
   "display_name": "Python 3",
   "language": "python",
   "name": "python3"
  },
  "language_info": {
   "codemirror_mode": {
    "name": "ipython",
    "version": 2
   },
   "file_extension": ".py",
   "mimetype": "text/x-python",
   "name": "python",
   "nbconvert_exporter": "python",
   "pygments_lexer": "ipython2",
   "version": "2.7.6"
  }
 },
 "nbformat": 4,
 "nbformat_minor": 5
}
